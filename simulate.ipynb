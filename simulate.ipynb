{
 "cells": [
  {
   "cell_type": "code",
   "execution_count": 5,
   "metadata": {},
   "outputs": [
    {
     "name": "stdout",
     "output_type": "stream",
     "text": [
      "Playing game 0\n",
      "Playing game 100\n",
      "Playing game 200\n",
      "Playing game 300\n",
      "Playing game 400\n",
      "Playing game 500\n",
      "Playing game 600\n",
      "Playing game 700\n",
      "Playing game 800\n",
      "Playing game 900\n"
     ]
    }
   ],
   "source": [
    "import pygame\n",
    "import math\n",
    "from pygame import gfxdraw\n",
    "import importlib\n",
    "import sys\n",
    "from copy import deepcopy\n",
    "from time import time\n",
    "import numpy as np\n",
    "\n",
    "NUMBER_OF_GAMES = 1000\n",
    "firstName = 'randomBot'\n",
    "secondName = 'randomBot'\n",
    "firstPlayer = importlib.import_module(firstName)\n",
    "secondPlayer = importlib.import_module(secondName)\n",
    "firstTime = 0\n",
    "secondTime = 0\n",
    "\n",
    "GRAPHICS = False\n",
    "maxTime = 0.01 if not GRAPHICS else 100\n",
    "\n",
    "GSIZE = 8\n",
    "BLACK = 1\n",
    "WHITE = -1\n",
    "firstwins = 0\n",
    "secondwins = 0\n",
    "size = 600\n",
    "cellSize = size / GSIZE\n",
    "rad = cellSize * 0.4\n",
    "strokeWidth = 5\n",
    "sideBarSize = 400\n",
    "possibleMoves = dict()\n",
    "player = 1\n",
    "\n",
    "scores = np.zeros((60, GSIZE, GSIZE))\n",
    "\n",
    "def initState():\n",
    "    global whitePoints, blackPoints, table\n",
    "    whitePoints = 0\n",
    "    blackPoints = 0\n",
    "    player = 1\n",
    "\n",
    "    table = [[0 for _ in range(GSIZE)] for _ in range(GSIZE)]\n",
    "    table[int(GSIZE/2)][int(GSIZE/2)] = 1\n",
    "    table[int(GSIZE/2 - 1)][int(GSIZE/2 - 1)] = 1\n",
    "    table[int(GSIZE/2 - 1)][int(GSIZE/2)] = -1\n",
    "    table[int(GSIZE/2)][int(GSIZE/2 - 1)] = -1\n",
    "\n",
    "def countPoints():\n",
    "    global whitePoints, blackPoints\n",
    "\n",
    "    whitePoints, blackPoints = 0, 0\n",
    "    for i in range (GSIZE):\n",
    "        for j in range (GSIZE):\n",
    "            if table[i][j]==BLACK:\n",
    "                blackPoints=blackPoints+1\n",
    "            elif table[i][j]==WHITE:\n",
    "                whitePoints=whitePoints+1\n",
    "\n",
    "def givePoints(k, winner):\n",
    "    for i in range (GSIZE):\n",
    "        for j in range (GSIZE):\n",
    "            if table[i][j]==winner:\n",
    "                scores[k, i, j] += 1\n",
    "            elif table[i][j]==-winner:\n",
    "                scores[k, i, j] -= 1\n",
    "\n",
    "def move(x, y):\n",
    "    global possibleMoves\n",
    "    global player\n",
    "    if((x,y) in possibleMoves):\n",
    "        for cX, cY in possibleMoves[(x, y)]:\n",
    "            table[cX][cY] = player\n",
    "        table[x][y] = player\n",
    "        return True\n",
    "    return False\n",
    "\n",
    "def checkAllPossibleMoves():\n",
    "    global player, possibleMoves\n",
    "    possibleMoves = dict()\n",
    "    for x in range(GSIZE):\n",
    "        for y in range(GSIZE):\n",
    "\n",
    "            if(table[x][y] == 0):\n",
    "                changed = []\n",
    "                for dX in (-1, 0, 1):\n",
    "                    for dY in (-1, 0 ,1):\n",
    "                        currX = x + dX\n",
    "                        currY = y + dY\n",
    "                        row = []\n",
    "                        while(currX >= 0 and currX < GSIZE and currY < GSIZE and currY >= 0 and table[currX][currY] == player * -1):\n",
    "                            row.append((currX, currY))\n",
    "                            currX += dX\n",
    "                            currY += dY\n",
    "                        if(currX >= 0 and currX < GSIZE and currY < GSIZE and currY >= 0 and table[currX][currY] == player):\n",
    "                            changed = changed + row\n",
    "\n",
    "                if(len(changed) > 0):\n",
    "                    possibleMoves[(x, y)] = changed\n",
    "\n",
    "def ban(name):\n",
    "    print(\"\\nPermban gracza %s\\n\" % name)\n",
    "    exit()\n",
    "\n",
    "for i in range(NUMBER_OF_GAMES):\n",
    "    initState()\n",
    "    player = BLACK\n",
    "    movesList = []\n",
    "    winner = 0\n",
    "\n",
    "    while True:\n",
    "        checkAllPossibleMoves()\n",
    "        if len(possibleMoves):\n",
    "            x, y = firstPlayer.returnMove(deepcopy(table), list(possibleMoves.keys()), player)\n",
    "\n",
    "            if move(x, y):\n",
    "                movesList.append((x, y))\n",
    "                player *= -1\n",
    "        else:\n",
    "            player *= -1\n",
    "            checkAllPossibleMoves()\n",
    "            if len(possibleMoves) == 0:\n",
    "                countPoints()\n",
    "                if whitePoints > blackPoints:\n",
    "                    winner = WHITE\n",
    "                elif blackPoints > whitePoints:\n",
    "                    winner = BLACK\n",
    "                break\n",
    "    \n",
    "    initState()\n",
    "    player = BLACK\n",
    "    for j in range(len(movesList)):\n",
    "        checkAllPossibleMoves()\n",
    "        if len(possibleMoves):\n",
    "            x, y = movesList[j]\n",
    "            \n",
    "            move(x, y)\n",
    "            if player == winner:\n",
    "                givePoints(j, winner)\n",
    "            player *= -1\n",
    "    if i%100 == 0:\n",
    "        print(\"Playing game %d\" %i)\n"
   ]
  },
  {
   "cell_type": "code",
   "execution_count": 8,
   "metadata": {},
   "outputs": [
    {
     "name": "stdout",
     "output_type": "stream",
     "text": [
      "Populating the interactive namespace from numpy and matplotlib\n"
     ]
    },
    {
     "name": "stderr",
     "output_type": "stream",
     "text": [
      "/home/shab/anaconda3/lib/python3.7/site-packages/IPython/core/magics/pylab.py:160: UserWarning: pylab import has clobbered these variables: ['time', 'table', 'size']\n",
      "`%matplotlib` prevents importing * from pylab and numpy\n",
      "  \"\\n`%matplotlib` prevents importing * from pylab and numpy\"\n"
     ]
    }
   ],
   "source": [
    "%pylab inline\n",
    "import seaborn as sns\n",
    "sns.set()"
   ]
  },
  {
   "cell_type": "code",
   "execution_count": 9,
   "metadata": {},
   "outputs": [],
   "source": [
    "def draw(s):\n",
    "    sns.heatmap(s)"
   ]
  },
  {
   "cell_type": "code",
   "execution_count": 20,
   "metadata": {},
   "outputs": [
    {
     "data": {
      "image/png": "[encoded data removed]",
      "text/plain": [
       "<Figure size 432x288 with 2 Axes>"
      ]
     },
     "metadata": {
      "needs_background": "light"
     },
     "output_type": "display_data"
    }
   ],
   "source": [
    "draw(scores[35])"
   ]
  },
  {
   "cell_type": "code",
   "execution_count": 21,
   "metadata": {},
   "outputs": [
    {
     "data": {
      "text/plain": [
       "array([[101., 112., 138., 120., 130., 131., 151., 128.],\n",
       "       [108., 111.,  59.,  22.,  12.,  38.,  99., 112.],\n",
       "       [118.,  58., 111.,  31.,  78.,  70.,  40., 123.],\n",
       "       [116.,  78.,  26.,  49.,  77.,  19.,  22., 122.],\n",
       "       [134.,  68.,  31.,  63.,  37.,  20.,  43., 137.],\n",
       "       [123.,  51.,  65.,  33.,  39.,  75.,  47., 150.],\n",
       "       [119.,  85.,  40.,  77.,  86.,  54., 113., 143.],\n",
       "       [125., 143., 144., 153., 133., 120.,  93., 107.]])"
      ]
     },
     "execution_count": 21,
     "metadata": {},
     "output_type": "execute_result"
    }
   ],
   "source": [
    "scores[58]"
   ]
  },
  {
   "cell_type": "code",
   "execution_count": 23,
   "metadata": {},
   "outputs": [],
   "source": [
    "scores.dump('scores.dt')"
   ]
  },
  {
   "cell_type": "code",
   "execution_count": 63,
   "metadata": {},
   "outputs": [],
   "source": [
    "import yaml\n",
    "s = open('/home/shab/school/si/4l/data.yml', \"r\")\n",
    "f = np.array(yaml.load(s))"
   ]
  },
  {
   "cell_type": "code",
   "execution_count": 82,
   "metadata": {},
   "outputs": [
    {
     "data": {
      "image/png": "[encoded data removed]",
      "text/plain": [
       "<Figure size 432x288 with 2 Axes>"
      ]
     },
     "metadata": {},
     "output_type": "display_data"
    }
   ],
   "source": [
    "draw(f[30])"
   ]
  },
  {
   "cell_type": "code",
   "execution_count": 74,
   "metadata": {},
   "outputs": [
    {
     "data": {
      "text/plain": [
       "array([[   0,    0,    0,    0,    0,    0,    0,    0],\n",
       "       [   0,    0,    0,    0,    0,    0,    0,    0],\n",
       "       [   0,    0,    0, -124,  -34,    0,    0,    0],\n",
       "       [   0,    0, -102,   -4, -488,   14,    0,    0],\n",
       "       [   0,    0,  -15, -488,  -76, -116,    0,    0],\n",
       "       [   0,    0,    0,   -5, -146,    0,    0,    0],\n",
       "       [   0,    0,    0,    0,    0,    0,    0,    0],\n",
       "       [   0,    0,    0,    0,    0,    0,    0,    0]])"
      ]
     },
     "execution_count": 74,
     "metadata": {},
     "output_type": "execute_result"
    }
   ],
   "source": [
    "f[0]"
   ]
  },
  {
   "cell_type": "code",
   "execution_count": null,
   "metadata": {},
   "outputs": [],
   "source": []
  }
 ],
 "metadata": {
  "kernelspec": {
   "display_name": "Python 3",
   "language": "python",
   "name": "python3"
  },
  "language_info": {
   "codemirror_mode": {
    "name": "ipython",
    "version": 3
   },
   "file_extension": ".py",
   "mimetype": "text/x-python",
   "name": "python",
   "nbconvert_exporter": "python",
   "pygments_lexer": "ipython3",
   "version": "3.7.2"
  }
 },
 "nbformat": 4,
 "nbformat_minor": 2
}
